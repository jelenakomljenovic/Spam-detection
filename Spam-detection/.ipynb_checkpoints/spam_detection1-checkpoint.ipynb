{
 "cells": [
  {
   "cell_type": "markdown",
   "id": "17a2e949-9d86-49a2-9f57-cf0c8da062bd",
   "metadata": {},
   "source": [
    "# Spam detection using a multi-layer perceptron"
   ]
  },
  {
   "cell_type": "markdown",
   "id": "0d279694-fe37-4c78-99ef-f8cbd2f6e5b1",
   "metadata": {},
   "source": [
    "#### **Import libraries**"
   ]
  },
  {
   "cell_type": "code",
   "execution_count": null,
   "id": "0e3ab75b-774a-4609-ad09-e44a083acffe",
   "metadata": {},
   "outputs": [],
   "source": [
    "import numpy as np\n",
    "import pandas as pd\n",
    "import matplotlib.pyplot as plt\n",
    "from sklearn.model_selection import train_test_split\n",
    "from wordcloud import WordCloud\n",
    "from sklearn.metrics import classification_report, confusion_matrix, precision_score, accuracy_score"
   ]
  },
  {
   "cell_type": "markdown",
   "id": "d1257440-13b9-4652-ad06-f50dbae0f46c",
   "metadata": {},
   "source": [
    "#### **Data Loading**"
   ]
  },
  {
   "cell_type": "code",
   "execution_count": null,
   "id": "b4480892-b5a7-4d1c-8272-93f52ba34733",
   "metadata": {},
   "outputs": [],
   "source": [
    "df = pd.read_table('spam_emails',\n",
    "                   sep='\\t', \n",
    "                   header=None, \n",
    "                   names=['spam', 'email'])\n",
    "df.shape"
   ]
  },
  {
   "cell_type": "code",
   "execution_count": null,
   "id": "75f1d1d4-a055-4c8e-957c-3c2e22c6b9d6",
   "metadata": {},
   "outputs": [],
   "source": [
    "df['spam'] = df.spam.map({'ham':0, 'spam':1})\n",
    "print(df.shape)\n",
    "df.head() "
   ]
  },
  {
   "cell_type": "code",
   "execution_count": null,
   "id": "755c99f2-9cc8-4471-9edb-a53610547d74",
   "metadata": {},
   "outputs": [],
   "source": [
    "df.info()"
   ]
  },
  {
   "cell_type": "code",
   "execution_count": null,
   "id": "e3ff172e-7b12-4a69-a418-c0212c2d335e",
   "metadata": {},
   "outputs": [],
   "source": [
    "X = df['email']"
   ]
  },
  {
   "cell_type": "code",
   "execution_count": null,
   "id": "6b2d8169-98d0-4a61-b020-8df218024ffc",
   "metadata": {},
   "outputs": [],
   "source": [
    "Y = df['spam']"
   ]
  },
  {
   "cell_type": "markdown",
   "id": "d075c844-d8ef-482f-8c17-999fd4a6d559",
   "metadata": {},
   "source": [
    "#### **Data Cleaning**"
   ]
  },
  {
   "cell_type": "code",
   "execution_count": null,
   "id": "1b22a932-7837-490b-80c4-72fa08a4d27c",
   "metadata": {},
   "outputs": [],
   "source": [
    "df.isnull().sum()"
   ]
  },
  {
   "cell_type": "code",
   "execution_count": null,
   "id": "77a9b6ac-fac4-4a99-94fa-e695ae89d312",
   "metadata": {},
   "outputs": [],
   "source": [
    "df.drop_duplicates(inplace=True)"
   ]
  },
  {
   "cell_type": "markdown",
   "id": "58758a83-bf7f-4fb2-b784-c605b9f423f9",
   "metadata": {},
   "source": [
    "#### **Data Visualization**"
   ]
  },
  {
   "cell_type": "code",
   "execution_count": null,
   "id": "8686c56b-ab41-44ff-9f95-18573cf6aa0e",
   "metadata": {},
   "outputs": [],
   "source": [
    "Y.value_counts()"
   ]
  },
  {
   "cell_type": "code",
   "execution_count": null,
   "id": "931534f2-86ef-4cc0-94de-587e91c24bc4",
   "metadata": {},
   "outputs": [],
   "source": [
    "colors = ['#BBD2EC', '#A7AED3']\n",
    "plt.pie(Y.value_counts(), labels=['non-spam','spam'], autopct=\"%0.2f\", colors=colors)\n",
    "plt.show()\n",
    "#plt.savefig(\"spam.png\")"
   ]
  },
  {
   "cell_type": "code",
   "execution_count": null,
   "id": "4bf9910b-ddaa-467e-a78e-e7d3a8894100",
   "metadata": {},
   "outputs": [],
   "source": [
    "wc = WordCloud(width=500,height=500,min_font_size=10,background_color='white')\n",
    "\n",
    "spam_words = wc.generate(df[Y == 1]['email'].str.cat(sep=\" \"))\n",
    "plt.figure(figsize=(15,6))\n",
    "plt.imshow(spam_words)\n",
    "#plt.savefig(\"spam_words.png\")"
   ]
  },
  {
   "cell_type": "code",
   "execution_count": null,
   "id": "492dc357-7901-4e7a-a8ef-2b05a66e8802",
   "metadata": {},
   "outputs": [],
   "source": [
    "non_spam_words = wc.generate(df[Y == 0]['email'].str.cat(sep=\" \"))\n",
    "plt.figure(figsize=(15,6))\n",
    "plt.imshow(non_spam_words)\n",
    "#plt.savefig(\"non_spam_words.png\")"
   ]
  },
  {
   "cell_type": "markdown",
   "id": "1a9bb33d-82b2-49fb-a160-49dedbd16696",
   "metadata": {},
   "source": [
    "#### **TF-IDF matrix**"
   ]
  },
  {
   "cell_type": "code",
   "execution_count": null,
   "id": "4d341219-bc5e-4232-a979-367a4abca9a3",
   "metadata": {},
   "outputs": [],
   "source": [
    "from sklearn.feature_extraction.text import TfidfVectorizer\n",
    "\n",
    "tf = TfidfVectorizer(max_df=0.8) # ignore terms that appear in more than 80% of the documents\n",
    "message = tf.fit_transform(X)"
   ]
  },
  {
   "cell_type": "code",
   "execution_count": null,
   "id": "d7604476-f3bf-4c15-a19e-9e33e4e223d1",
   "metadata": {},
   "outputs": [],
   "source": [
    "tf.get_feature_names_out()"
   ]
  },
  {
   "cell_type": "markdown",
   "id": "17da462b-b12e-4659-ac6d-993bd1f4f1e3",
   "metadata": {},
   "source": [
    "#### **CountVectorizer**"
   ]
  },
  {
   "cell_type": "code",
   "execution_count": null,
   "id": "73d2f11d-f154-4e83-8a1e-daa5a1056fb8",
   "metadata": {},
   "outputs": [],
   "source": [
    "# from sklearn.feature_extraction.text import CountVectorizer\n",
    "\n",
    "# cv = CountVectorizer()\n",
    "# message = cv.fit_transform(X)\n",
    "# cv.get_feature_names_out()"
   ]
  },
  {
   "cell_type": "markdown",
   "id": "327d9b37-a0ab-45b4-ac93-cbbf9edc5640",
   "metadata": {},
   "source": [
    "#### **Data Splitting** (test and train)"
   ]
  },
  {
   "cell_type": "code",
   "execution_count": null,
   "id": "18f74e2e-c973-4e56-8369-198c6cffada3",
   "metadata": {},
   "outputs": [],
   "source": [
    "X_train, X_test, y_train, y_test = train_test_split(message, Y, test_size=0.20, random_state=0)\n"
   ]
  },
  {
   "cell_type": "markdown",
   "id": "7bb030e6-cede-4e4c-8390-1951f16b1b9d",
   "metadata": {},
   "source": [
    "#### **MLP**"
   ]
  },
  {
   "cell_type": "code",
   "execution_count": null,
   "id": "ca6a1f78-84cb-42df-ad77-64e1431bb3c8",
   "metadata": {},
   "outputs": [],
   "source": [
    "from tensorflow.keras.models import Sequential\n",
    "from tensorflow.keras.layers import Dense\n",
    "from tensorflow.keras import regularizers"
   ]
  },
  {
   "cell_type": "code",
   "execution_count": null,
   "id": "663a7e59-b05b-465c-ae4b-873b004dab75",
   "metadata": {},
   "outputs": [],
   "source": [
    "model = Sequential()\n",
    "model.add(Dense(input_dim=X_train.shape[1], units=100, kernel_regularizer= regularizers.L1(l1=1e-5), activation='relu'))\n",
    "model.add(Dense(units=64, activation='relu'))\n",
    "model.add(Dense(units=128, activation='relu'))\n",
    "model.add(Dense(units=1, activation='sigmoid'))"
   ]
  },
  {
   "cell_type": "code",
   "execution_count": null,
   "id": "2c94ef8e-b5c0-4003-b399-cce5f90fb5d4",
   "metadata": {},
   "outputs": [],
   "source": [
    "model.summary()"
   ]
  },
  {
   "cell_type": "code",
   "execution_count": null,
   "id": "36bca314-5e65-4f76-8e1f-fde242837ff2",
   "metadata": {},
   "outputs": [],
   "source": [
    "model.compile(optimizer='adam', loss='binary_crossentropy', metrics=['accuracy'])"
   ]
  },
  {
   "cell_type": "code",
   "execution_count": null,
   "id": "730cea4f-1620-4b34-ba2b-3287dfae26b5",
   "metadata": {},
   "outputs": [],
   "source": [
    "history = model.fit(X_train.toarray(), y_train, batch_size=64, epochs=40, verbose=1, validation_split=0.2)"
   ]
  },
  {
   "cell_type": "code",
   "execution_count": null,
   "id": "f960ee5b-20d3-4bd1-ad1a-8a3c89979a1b",
   "metadata": {},
   "outputs": [],
   "source": [
    "epochs = history.epoch\n",
    "plt.plot(epochs, history.history['loss'], label=\"training set\") # blue\n",
    "plt.plot(epochs, history.history['val_loss'], label=\"validation set\") #orange\n",
    "plt.title('loss')\n",
    "plt.legend()\n",
    "plt.savefig(\"loss.png\")"
   ]
  },
  {
   "cell_type": "code",
   "execution_count": null,
   "id": "355a1e00-f9b2-478b-abd2-4456c826cdf4",
   "metadata": {},
   "outputs": [],
   "source": [
    "plt.plot(epochs, history.history['accuracy'], label=\"training set\") #blue\n",
    "plt.plot(epochs, history.history['val_accuracy'], label=\"validation set\") #orange\n",
    "plt.title('accuracy')\n",
    "plt.savefig(\"accuracy.png\")\n",
    "plt.legend()"
   ]
  },
  {
   "cell_type": "code",
   "execution_count": null,
   "id": "218ae84f-7b7c-4761-b40f-030d2e2834cc",
   "metadata": {},
   "outputs": [],
   "source": [
    "model.evaluate(X_test.toarray(), y_test, batch_size=64)"
   ]
  },
  {
   "cell_type": "code",
   "execution_count": null,
   "id": "f970433d-87c2-4201-a2d2-62d22150edf8",
   "metadata": {},
   "outputs": [],
   "source": [
    "y_pred = model.predict(X_test.toarray())"
   ]
  },
  {
   "cell_type": "markdown",
   "id": "6eb13765-f200-48fd-947b-4ab3a23d6cc3",
   "metadata": {},
   "source": [
    "#### **Metrics**"
   ]
  },
  {
   "cell_type": "code",
   "execution_count": null,
   "id": "30406540-c3e4-4659-b742-9dc02b084ce6",
   "metadata": {},
   "outputs": [],
   "source": [
    "import seaborn as sns\n",
    "y_pred_new = [int(not(i<0.5)) for i in y_pred]\n",
    "\n",
    "cm=confusion_matrix(y_test, y_pred_new)\n",
    "plt.figure(dpi=100)\n",
    "sns.heatmap(cm, annot=True)\n",
    "plt.title(\"Confusion matrix\")\n",
    "plt.show()"
   ]
  },
  {
   "cell_type": "code",
   "execution_count": null,
   "id": "b0f1d76e-cc98-40c4-881d-f7243b40c600",
   "metadata": {
    "scrolled": true
   },
   "outputs": [],
   "source": [
    "print(classification_report(y_test, y_pred_new))\n",
    "print(\"Accuracy: {:.2f}%\".format(accuracy_score(y_test,y_pred_new)*100))"
   ]
  },
  {
   "cell_type": "code",
   "execution_count": null,
   "id": "fac6e6c2-fc5c-4717-aa79-ddfddcc7f38f",
   "metadata": {},
   "outputs": [],
   "source": [
    "precision_score(y_test, y_pred_new)"
   ]
  },
  {
   "cell_type": "code",
   "execution_count": null,
   "id": "b2136445-a186-4528-ad05-b4a2096048ad",
   "metadata": {},
   "outputs": [],
   "source": [
    "from sklearn.naive_bayes import MultinomialNB\n",
    "mnb = MultinomialNB()\n",
    "mnb.fit(X_train, y_train)\n",
    "y_pred3 = mnb.predict(X_test)\n",
    "print(\"Accuracy: {:.2f}%\".format(accuracy_score(y_test,y_pred3)*100))\n",
    "print(classification_report(y_test, y_pred3))"
   ]
  },
  {
   "cell_type": "code",
   "execution_count": null,
   "id": "48151a66-6fa5-4521-a28e-e2a065008a3d",
   "metadata": {},
   "outputs": [],
   "source": [
    "from sklearn.linear_model import LogisticRegression\n",
    "\n",
    "lr = LogisticRegression(C = 2, max_iter = 1000, n_jobs=-1)\n",
    "lr.fit(X_train, y_train)\n",
    "y_pred4 = lr.predict(X_test)\n",
    "print(\"Accuracy: {:.2f}%\".format(accuracy_score(y_test,y_pred4)*100))\n",
    "print(classification_report(y_test, y_pred4))"
   ]
  },
  {
   "cell_type": "code",
   "execution_count": null,
   "id": "2ad69a91-0bd5-4800-862f-74065102768f",
   "metadata": {},
   "outputs": [],
   "source": [
    "from sklearn.ensemble import RandomForestClassifier\n",
    "\n",
    "rfc = RandomForestClassifier(n_estimators=300, max_depth=15, random_state=42, class_weight='balanced')\n",
    "rfc.fit(X_train, y_train)\n",
    "y_pred5= rfc.predict(X_test)\n",
    "print(\"Accuracy: {:.2f}%\".format(accuracy_score(y_test,y_pred5)*100))\n",
    "print(classification_report(y_test, y_pred5))"
   ]
  }
 ],
 "metadata": {
  "kernelspec": {
   "display_name": "Python 3 (ipykernel)",
   "language": "python",
   "name": "python3"
  },
  "language_info": {
   "codemirror_mode": {
    "name": "ipython",
    "version": 3
   },
   "file_extension": ".py",
   "mimetype": "text/x-python",
   "name": "python",
   "nbconvert_exporter": "python",
   "pygments_lexer": "ipython3",
   "version": "3.8.6"
  }
 },
 "nbformat": 4,
 "nbformat_minor": 5
}
